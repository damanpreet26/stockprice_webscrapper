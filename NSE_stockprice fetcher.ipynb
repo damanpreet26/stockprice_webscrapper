{
 "cells": [
  {
   "cell_type": "code",
   "execution_count": 18,
   "metadata": {},
   "outputs": [],
   "source": [
    "import requests\n",
    "from bs4 import BeautifulSoup"
   ]
  },
  {
   "cell_type": "code",
   "execution_count": 69,
   "metadata": {},
   "outputs": [
    {
     "name": "stdout",
     "output_type": "stream",
     "text": [
      "['BAJAJFINSV', 'SBIN']\n"
     ]
    }
   ],
   "source": [
    "stockcode = [\"BAJAJFINSV\",\"SBIN\"]\n",
    "print(stockcode)"
   ]
  },
  {
   "cell_type": "code",
   "execution_count": 63,
   "metadata": {},
   "outputs": [],
   "source": [
    "stock_url  = 'https://www1.nseindia.com/live_market/dynaContent/live_watch/get_quote/GetQuote.jsp?symbol='+str(stockcode[0])\n",
    "headers = {'user-agent':'Mozilla/5.0 (Windows NT 10.0; Win64; x64) AppleWebKit/537.36 (KHTML, like Gecko) Chrome/79.0.3945.117 Safari/537.36'}"
   ]
  },
  {
   "cell_type": "code",
   "execution_count": 64,
   "metadata": {},
   "outputs": [],
   "source": [
    "response = requests.get(stock_url,headers=headers)\n"
   ]
  },
  {
   "cell_type": "code",
   "execution_count": 65,
   "metadata": {},
   "outputs": [],
   "source": [
    "soup = BeautifulSoup(response.text, 'html.parser')"
   ]
  },
  {
   "cell_type": "code",
   "execution_count": 74,
   "metadata": {},
   "outputs": [],
   "source": [
    "data_array=soup.find(id=\"responseDiv\").getText().strip().split(\":\")\n",
    "#print(data_array)\n"
   ]
  },
  {
   "cell_type": "code",
   "execution_count": 54,
   "metadata": {},
   "outputs": [
    {
     "name": "stdout",
     "output_type": "stream",
     "text": [
      "BAJAJFINSV ---> 8,784.65\n"
     ]
    }
   ],
   "source": [
    "for item in data_array:\n",
    "    if 'lastPrice' in item:\n",
    "        index = data_array.index(item)+1\n",
    "        latestPrice=data_array[index].split('\"')[1]\n",
    "        print(stockcode,\"--->\",latestPrice)"
   ]
  },
  {
   "cell_type": "code",
   "execution_count": null,
   "metadata": {},
   "outputs": [],
   "source": [
    "##### you"
   ]
  },
  {
   "cell_type": "code",
   "execution_count": 73,
   "metadata": {},
   "outputs": [
    {
     "name": "stdout",
     "output_type": "stream",
     "text": [
      "BAJAJFINSV ---> 8,784.65\n",
      "SBIN ---> 305.95\n"
     ]
    }
   ],
   "source": [
    "for val in stockcode:\n",
    "    #print(val)\n",
    "    stock_url  = 'https://www1.nseindia.com/live_market/dynaContent/live_watch/get_quote/GetQuote.jsp?symbol='+str(val)\n",
    "    headers = {'user-agent':'Mozilla/5.0 (Windows NT 10.0; Win64; x64) AppleWebKit/537.36 (KHTML, like Gecko) Chrome/79.0.3945.117 Safari/537.36'}\n",
    "    \n",
    "    response = requests.get(stock_url,headers=headers)\n",
    "    soup = BeautifulSoup(response.text, 'html.parser')\n",
    "    \n",
    "    data_array=soup.find(id=\"responseDiv\").getText().strip().split(\":\")\n",
    "    \n",
    "    for item in data_array:\n",
    "        if 'lastPrice' in item:\n",
    "            index = data_array.index(item)+1\n",
    "            latestPrice=data_array[index].split('\"')[1]\n",
    "            print(val,\"--->\",latestPrice)\n"
   ]
  }
 ],
 "metadata": {
  "kernelspec": {
   "display_name": "Python 3",
   "language": "python",
   "name": "python3"
  },
  "language_info": {
   "codemirror_mode": {
    "name": "ipython",
    "version": 3
   },
   "file_extension": ".py",
   "mimetype": "text/x-python",
   "name": "python",
   "nbconvert_exporter": "python",
   "pygments_lexer": "ipython3",
   "version": "3.8.5"
  }
 },
 "nbformat": 4,
 "nbformat_minor": 4
}
